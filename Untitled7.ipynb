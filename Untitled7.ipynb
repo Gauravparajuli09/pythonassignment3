{
 "cells": [
  {
   "cell_type": "code",
   "execution_count": 1,
   "metadata": {},
   "outputs": [],
   "source": [
    "from osgeo import gdal, ogr"
   ]
  },
  {
   "cell_type": "code",
   "execution_count": 7,
   "metadata": {},
   "outputs": [],
   "source": [
    "sn = r\"F:\\application in use\\geofox\\GIS\\district.shp\"\n",
    "rk = ogr.Open(sn,0)\n",
    "if rk is None:\n",
    "    sys.exit('couldnot open {0}.'.format(rk))\n"
   ]
  },
  {
   "cell_type": "code",
   "execution_count": 13,
   "metadata": {},
   "outputs": [
    {
     "name": "stdout",
     "output_type": "stream",
     "text": [
      "Covid case in ACHHAM is 2355\n",
      "Covid case in ARGHAKHANCHI is 1681\n",
      "Covid case in BAGLUNG is 1677\n",
      "Covid case in BAITADI is 1668\n",
      "Covid case in BAJHANG is 1142\n",
      "Covid case in BAJURA is 756\n",
      "Covid case in BANKE is 14532\n",
      "Covid case in BARA is 2957\n",
      "Covid case in BARDIYA is 3231\n",
      "Covid case in BHAKTAPUR is 15541\n"
     ]
    }
   ],
   "source": [
    "lyr = rk.GetLayer(0)\n",
    "i = 0\n",
    "for feat in lyr:\n",
    "    pt = feat.geometry()\n",
    "    ab1 = feat.GetField('DISTRICT')\n",
    "    ab2 = feat.GetField('Covid19dat')\n",
    "    print(f'Covid case in {ab1} is {ab2}')\n",
    "    i+=1\n",
    "    if i==10:\n",
    "        break"
   ]
  },
  {
   "cell_type": "code",
   "execution_count": null,
   "metadata": {},
   "outputs": [],
   "source": []
  }
 ],
 "metadata": {
  "kernelspec": {
   "display_name": "Python 3",
   "language": "python",
   "name": "python3"
  },
  "language_info": {
   "codemirror_mode": {
    "name": "ipython",
    "version": 3
   },
   "file_extension": ".py",
   "mimetype": "text/x-python",
   "name": "python",
   "nbconvert_exporter": "python",
   "pygments_lexer": "ipython3",
   "version": "3.8.5"
  }
 },
 "nbformat": 4,
 "nbformat_minor": 4
}
